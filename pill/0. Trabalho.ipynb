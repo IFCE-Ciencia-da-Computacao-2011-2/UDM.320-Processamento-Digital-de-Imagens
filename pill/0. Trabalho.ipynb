{
 "cells": [
  {
   "cell_type": "markdown",
   "metadata": {},
   "source": [
    "# Trabalho Processamento Digital de Imagem - Pílulas\n",
    "\n",
    "## Imagens\n",
    "\n",
    "Imagens de pílulas compartilhadas no Dropbox\n",
    "\n",
    "## Tarefas\n",
    "\n",
    "### 1. Busca baseada por conteúdo da imagem\n",
    "\n",
    " - **Entrada:** uma imagem de pílula $I$, um número inteiro $n$\n",
    " - **Saída:** imagens das $n$ pílulas de cores mais próximas a $I$\n",
    "\n",
    "#### Ideias\n",
    "\n",
    " - Como comparar as cores de duas imagens? Comparar histogramas.\n",
    " - Usar histograma normalizado (valores entre 0 e 1)\n",
    " - Pesquise as as métricas de similaridade de histogramas (correlação, Chi-quadrado, Bhattacharyya, interseção).\n",
    " - É necessário usar o histograma da imagem toda? A pílula ocupa uma porção pequena e conhecida na imagem (parte central).\n",
    " - As imagens são coloridas: usar histogramas dos canais do modelo de representação de cores (RGB, CMY, HSI, etc).\n",
    "\n",
    "### 2. Separar as pílulas circulares das pílulas alongadas\n",
    "\n",
    "#### Ideias:\n",
    "- As pílulas são mais claras que o fundo. Fazer uma limiarização do canal I do modelo HSI para obter uma imagem binária (pílula / fundo).\n",
    "- Contar os pontos do perímetro e a área da pílula.\n",
    "- Calcular atributos: circularidade, aspecto, razão área/perímetro.\n",
    "\n",
    "\n",
    "## Sugestão de ferramentas\n",
    "\n",
    " * Python, numpy, OpenCV\n",
    " * Matlab\n",
    "\n",
    "\n",
    "## Algumas referências \n",
    "\n",
    "- http://www.lsi.usp.br/~rponeves/work/Proc_Imagens/\n",
    "- Comparação:\n",
    "  - http://opencv-python-tutroals.readthedocs.io/en/latest/py_tutorials/py_imgproc/py_histograms/py_histogram_begins/py_histogram_begins.html#histograms-getting-started\n",
    "  - http://nca.ufma.br/~geraldo/vc/7.histograma.pdf\n",
    "  - http://www.pyimagesearch.com/2014/07/14/3-ways-compare-histograms-using-opencv-python/\n",
    "- Busca:\n",
    "  - http://www.pyimagesearch.com/2014/01/27/hobbits-and-histograms-a-how-to-guide-to-building-your-first-image-search-engine-in-python/\n",
    "\n",
    "## Entrega\n",
    "\n",
    "- Equipes 3 alunos (máximo)\n",
    "- Apresentação\n",
    "- Seu sistema deve ser flexível suficiente para funcionar com outro conjunto de imagens\n",
    "- Data : 30/01/2017"
   ]
  }
 ],
 "metadata": {
  "anaconda-cloud": {},
  "kernelspec": {
   "display_name": "Python [conda root]",
   "language": "python",
   "name": "conda-root-py"
  },
  "language_info": {
   "codemirror_mode": {
    "name": "ipython",
    "version": 3.0
   },
   "file_extension": ".py",
   "mimetype": "text/x-python",
   "name": "python",
   "nbconvert_exporter": "python",
   "pygments_lexer": "ipython3",
   "version": "3.5.2"
  },
  "notify_time": "0",
  "toc": {
   "colors": {
    "hover_highlight": "#DAA520",
    "running_highlight": "#FF0000",
    "selected_highlight": "#FFD700"
   },
   "moveMenuLeft": true,
   "nav_menu": {
    "height": "208px",
    "width": "252px"
   },
   "navigate_menu": true,
   "number_sections": true,
   "sideBar": true,
   "threshold": "5",
   "toc_cell": false,
   "toc_section_display": "block",
   "toc_window_display": false
  }
 },
 "nbformat": 4,
 "nbformat_minor": 0
}