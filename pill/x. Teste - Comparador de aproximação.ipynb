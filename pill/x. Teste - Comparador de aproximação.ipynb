{
 "cells": [
  {
   "cell_type": "markdown",
   "metadata": {},
   "source": [
    "# x. Comparador de aproximação\n",
    "\n",
    "Para um ponto futuro.\n",
    "\n",
    "`\n",
    "Para cada elemento de um grupo de cores do will:\n",
    "    Executar algoritmo de comparação\n",
    "    As imagens que aparecem mais são as mais prováveis de serem desse grupo\n",
    "`"
   ]
  },
  {
   "cell_type": "code",
   "execution_count": 99,
   "metadata": {
    "collapsed": true
   },
   "outputs": [],
   "source": [
    "class Comparador(object):\n",
    "\n",
    "    def comparar(self, base1, base2, coluna='pilulas'):\n",
    "        \"\"\"\n",
    "        Conta o total de pílulas da base1 que estão na base 2\n",
    "        \"\"\"\n",
    "        total = base1[coluna].isin(base2[coluna])\n",
    "        return total.value_counts()\n"
   ]
  },
  {
   "cell_type": "code",
   "execution_count": 101,
   "metadata": {
    "collapsed": false
   },
   "outputs": [
    {
     "data": {
      "text/plain": [
       "True     2\n",
       "False    1\n",
       "Name: pilulas, dtype: int64"
      ]
     },
     "execution_count": 101,
     "metadata": {},
     "output_type": "execute_result"
    }
   ],
   "source": [
    "# Contar quantos elementos de a estão em b\n",
    "\n",
    "a = pd.DataFrame(data=['a', 'b', 'c'], columns=['pilulas'])\n",
    "b = pd.DataFrame(data=['c', 'b', 'd'], columns=['pilulas'])\n",
    "\n",
    "Comparador().comparar(a, b, coluna='pilulas')"
   ]
  },
  {
   "cell_type": "code",
   "execution_count": 90,
   "metadata": {
    "collapsed": false
   },
   "outputs": [],
   "source": [
    "import pandas as pd\n",
    "\n",
    "resultado1 = pd.read_csv(\"resultados/resultado-00074-3020-11_PART_1_OF_1_CHAL10_SB_E01D703B.csv\")\n",
    "base = pd.read_csv(\"resultados/will.csv\")"
   ]
  },
  {
   "cell_type": "code",
   "execution_count": 93,
   "metadata": {
    "collapsed": false
   },
   "outputs": [
    {
     "data": {
      "text/plain": [
       "True    12\n",
       "Name: pilulas, dtype: int64"
      ]
     },
     "execution_count": 93,
     "metadata": {},
     "output_type": "execute_result"
    }
   ],
   "source": [
    "Comparador().comparar(resultado1, base, coluna='pilulas')"
   ]
  },
  {
   "cell_type": "code",
   "execution_count": 95,
   "metadata": {
    "collapsed": false
   },
   "outputs": [
    {
     "data": {
      "text/html": [
       "<div>\n",
       "<table border=\"1\" class=\"dataframe\">\n",
       "  <thead>\n",
       "    <tr style=\"text-align: right;\">\n",
       "      <th></th>\n",
       "      <th>pilulas</th>\n",
       "    </tr>\n",
       "  </thead>\n",
       "  <tbody>\n",
       "    <tr>\n",
       "      <th>0</th>\n",
       "      <td>PILL/00074-3020-11_PART_1_OF_1_CHAL10_SB_E01D7...</td>\n",
       "    </tr>\n",
       "    <tr>\n",
       "      <th>1</th>\n",
       "      <td>PILL/00074-3020-11_PART_1_OF_1_CHAL10_SF_E01D7...</td>\n",
       "    </tr>\n",
       "    <tr>\n",
       "      <th>2</th>\n",
       "      <td>PILL/00074-3290-13_PART_1_OF_1_CHAL10_SB_EC1D7...</td>\n",
       "    </tr>\n",
       "    <tr>\n",
       "      <th>3</th>\n",
       "      <td>PILL/00074-3290-13_PART_1_OF_1_CHAL10_SF_EC1D7...</td>\n",
       "    </tr>\n",
       "    <tr>\n",
       "      <th>4</th>\n",
       "      <td>PILL/00074-9189-90_PART_1_OF_1_CHAL10_SB_DF1DE...</td>\n",
       "    </tr>\n",
       "    <tr>\n",
       "      <th>5</th>\n",
       "      <td>PILL/00074-9189-90_PART_1_OF_1_CHAL10_SF_DF1DE...</td>\n",
       "    </tr>\n",
       "    <tr>\n",
       "      <th>6</th>\n",
       "      <td>PILL/00078-0359-34_PART_1_OF_1_CHAL10_SB_EC157...</td>\n",
       "    </tr>\n",
       "    <tr>\n",
       "      <th>7</th>\n",
       "      <td>PILL/00078-0359-34_PART_1_OF_1_CHAL10_SF_EC157...</td>\n",
       "    </tr>\n",
       "    <tr>\n",
       "      <th>8</th>\n",
       "      <td>PILL/00078-0360-34_PART_1_OF_1_CHAL10_SB_F0157...</td>\n",
       "    </tr>\n",
       "    <tr>\n",
       "      <th>9</th>\n",
       "      <td>PILL/00078-0360-34_PART_1_OF_1_CHAL10_SF_F0157...</td>\n",
       "    </tr>\n",
       "    <tr>\n",
       "      <th>10</th>\n",
       "      <td>PILL/00078-0486-15_PART_1_OF_1_CHAL10_SB_E61D7...</td>\n",
       "    </tr>\n",
       "    <tr>\n",
       "      <th>11</th>\n",
       "      <td>PILL/00078-0486-15_PART_1_OF_1_CHAL10_SF_E61D7...</td>\n",
       "    </tr>\n",
       "  </tbody>\n",
       "</table>\n",
       "</div>"
      ],
      "text/plain": [
       "                                              pilulas\n",
       "0   PILL/00074-3020-11_PART_1_OF_1_CHAL10_SB_E01D7...\n",
       "1   PILL/00074-3020-11_PART_1_OF_1_CHAL10_SF_E01D7...\n",
       "2   PILL/00074-3290-13_PART_1_OF_1_CHAL10_SB_EC1D7...\n",
       "3   PILL/00074-3290-13_PART_1_OF_1_CHAL10_SF_EC1D7...\n",
       "4   PILL/00074-9189-90_PART_1_OF_1_CHAL10_SB_DF1DE...\n",
       "5   PILL/00074-9189-90_PART_1_OF_1_CHAL10_SF_DF1DE...\n",
       "6   PILL/00078-0359-34_PART_1_OF_1_CHAL10_SB_EC157...\n",
       "7   PILL/00078-0359-34_PART_1_OF_1_CHAL10_SF_EC157...\n",
       "8   PILL/00078-0360-34_PART_1_OF_1_CHAL10_SB_F0157...\n",
       "9   PILL/00078-0360-34_PART_1_OF_1_CHAL10_SF_F0157...\n",
       "10  PILL/00078-0486-15_PART_1_OF_1_CHAL10_SB_E61D7...\n",
       "11  PILL/00078-0486-15_PART_1_OF_1_CHAL10_SF_E61D7..."
      ]
     },
     "execution_count": 95,
     "metadata": {},
     "output_type": "execute_result"
    }
   ],
   "source": [
    "resultado1"
   ]
  },
  {
   "cell_type": "code",
   "execution_count": null,
   "metadata": {
    "collapsed": true
   },
   "outputs": [],
   "source": []
  }
 ],
 "metadata": {
  "anaconda-cloud": {},
  "kernelspec": {
   "display_name": "Python [conda root]",
   "language": "python",
   "name": "conda-root-py"
  },
  "language_info": {
   "codemirror_mode": {
    "name": "ipython",
    "version": 3
   },
   "file_extension": ".py",
   "mimetype": "text/x-python",
   "name": "python",
   "nbconvert_exporter": "python",
   "pygments_lexer": "ipython3",
   "version": "3.5.2"
  }
 },
 "nbformat": 4,
 "nbformat_minor": 2
}
